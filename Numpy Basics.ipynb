{
 "cells": [
  {
   "cell_type": "code",
   "execution_count": 1,
   "metadata": {},
   "outputs": [],
   "source": [
    "import numpy as np"
   ]
  },
  {
   "cell_type": "markdown",
   "metadata": {},
   "source": [
    "# Note about \"rank 1 array\"\n",
    "In numpy we have an array which has a dimension of `(n,)` where *n* is any positive integer. This type of array is called *rank 1 array*\n",
    "\n",
    "### Example: 1"
   ]
  },
  {
   "cell_type": "code",
   "execution_count": 3,
   "metadata": {},
   "outputs": [
    {
     "name": "stdout",
     "output_type": "stream",
     "text": [
      "[1 2 3]\n",
      "(3,)\n"
     ]
    }
   ],
   "source": [
    "a = np.array([1, 2, 3])\n",
    "print(a)\n",
    "print(a.shape)"
   ]
  },
  {
   "cell_type": "markdown",
   "metadata": {},
   "source": [
    "*Rank 1 array* are created when we pass a list as an argument to `.array()` method. These *rank 1 array* nethier functions as a vector (row or column matrix) nor as a matrix. <b>We have to avoid using *rank 1 array*</b>\n",
    "\n",
    "To avoid *rank 1 array* pass a list of lists as an arrugment to `.array()` method, where each inner list represent a single row of matrix\n",
    "\n",
    "### Example: 2"
   ]
  },
  {
   "cell_type": "code",
   "execution_count": 4,
   "metadata": {},
   "outputs": [
    {
     "name": "stdout",
     "output_type": "stream",
     "text": [
      "[[1 2 3]]\n",
      "(1, 3)\n"
     ]
    }
   ],
   "source": [
    "b = np.array([[1, 2, 3]])\n",
    "print(b)\n",
    "print(b.shape)"
   ]
  },
  {
   "cell_type": "markdown",
   "metadata": {},
   "source": [
    "### Example: 3"
   ]
  },
  {
   "cell_type": "code",
   "execution_count": 5,
   "metadata": {},
   "outputs": [
    {
     "name": "stdout",
     "output_type": "stream",
     "text": [
      "[[1 2 3]\n",
      " [4 5 6]]\n",
      "(2, 3)\n"
     ]
    }
   ],
   "source": [
    "c = np.array([[1, 2, 3],\n",
    "             [4, 5, 6]])\n",
    "print(c)\n",
    "print(c.shape)"
   ]
  },
  {
   "cell_type": "markdown",
   "metadata": {},
   "source": [
    "Observe that in example 2 there is only one inner list which means there would be only one row in our matrix. Similarly, in example 3 we have two inner lists which means there would be three rows in our matrix"
   ]
  },
  {
   "cell_type": "markdown",
   "metadata": {},
   "source": [
    "# Finding Exponent ($ e^x $)"
   ]
  },
  {
   "cell_type": "markdown",
   "metadata": {},
   "source": [
    "`np.exp()` is used to find exponent in numpy module. Python math module also have to function for this purpose which is `math.exp()` but this is rarely used in ML/DL because it takes a real number while `np.exp()` can be applied to every element of a whole vector or matrix"
   ]
  },
  {
   "cell_type": "code",
   "execution_count": 3,
   "metadata": {},
   "outputs": [
    {
     "name": "stdout",
     "output_type": "stream",
     "text": [
      "[[ 2.71828183]\n",
      " [ 7.3890561 ]\n",
      " [20.08553692]]\n"
     ]
    }
   ],
   "source": [
    "x = np.array([[1],\n",
    "             [2],\n",
    "             [3]])\n",
    "print(np.exp(x))"
   ]
  },
  {
   "cell_type": "markdown",
   "metadata": {},
   "source": [
    "The shape of output from `np.exp()` would be identical to the argument provided. Observe in above example we provided a column matrix to `np.exp()` so it also output a column matrix as result"
   ]
  },
  {
   "cell_type": "markdown",
   "metadata": {},
   "source": [
    "# Populating With Zeros\n",
    "`.zeros()` method is used to create matrix containing zeros\n",
    "\n",
    "## .1) Rank 1 Array\n",
    "Rank 1 array of zeros can be declared in multiple ways"
   ]
  },
  {
   "cell_type": "code",
   "execution_count": 18,
   "metadata": {},
   "outputs": [
    {
     "name": "stdout",
     "output_type": "stream",
     "text": [
      "[0. 0. 0. 0. 0.]\n",
      "(5,)\n"
     ]
    }
   ],
   "source": [
    "my_arr1 = np.zeros(5)\n",
    "print(my_arr1)\n",
    "print(my_arr1.shape)"
   ]
  },
  {
   "cell_type": "code",
   "execution_count": 20,
   "metadata": {},
   "outputs": [
    {
     "name": "stdout",
     "output_type": "stream",
     "text": [
      "[0. 0. 0. 0. 0.]\n",
      "(5,)\n"
     ]
    }
   ],
   "source": [
    "my_arr2 = np.zeros([5])\n",
    "print(my_arr2)\n",
    "print(my_arr2.shape)"
   ]
  },
  {
   "cell_type": "code",
   "execution_count": 21,
   "metadata": {},
   "outputs": [
    {
     "name": "stdout",
     "output_type": "stream",
     "text": [
      "[0. 0. 0. 0. 0.]\n",
      "(5,)\n"
     ]
    }
   ],
   "source": [
    "my_arr3 = np.zeros((5))\n",
    "print(my_arr3)\n",
    "print(my_arr3.shape)"
   ]
  },
  {
   "cell_type": "markdown",
   "metadata": {},
   "source": [
    "Observe the little difference (first takes integer, second takes list, third takes tuple) in initializing different arrays but all have same elements and shape\n",
    "\n",
    "But we have to avoid using rank 1 array so we won't be using above methods"
   ]
  },
  {
   "cell_type": "markdown",
   "metadata": {},
   "source": [
    "## .2) Vector or Matrix\n",
    "Row vector, column vector or matrix of any shape can be defined either by passing a list or tuple to `.zeros()` method **having multiple elements** (if or list or tuple have only one element, a rank 1 array would be created)"
   ]
  },
  {
   "cell_type": "code",
   "execution_count": 22,
   "metadata": {},
   "outputs": [
    {
     "name": "stdout",
     "output_type": "stream",
     "text": [
      "[[0. 0. 0.]]\n",
      "(1, 3)\n"
     ]
    }
   ],
   "source": [
    "print(np.zeros([1, 3]))  # Row vector\n",
    "print(np.zeros([1, 3]).shape)"
   ]
  },
  {
   "cell_type": "code",
   "execution_count": 23,
   "metadata": {},
   "outputs": [
    {
     "name": "stdout",
     "output_type": "stream",
     "text": [
      "[[0.]\n",
      " [0.]\n",
      " [0.]]\n",
      "(3, 1)\n"
     ]
    }
   ],
   "source": [
    "print(np.zeros([3, 1]))  # Column vector\n",
    "print(np.zeros([3, 1]).shape)"
   ]
  },
  {
   "cell_type": "code",
   "execution_count": 24,
   "metadata": {},
   "outputs": [
    {
     "name": "stdout",
     "output_type": "stream",
     "text": [
      "[[0. 0. 0.]\n",
      " [0. 0. 0.]]\n",
      "(2, 3)\n"
     ]
    }
   ],
   "source": [
    "print(np.zeros([2, 3]))  # 2D matrix \n",
    "print(np.zeros([2, 3]).shape)"
   ]
  },
  {
   "cell_type": "code",
   "execution_count": 25,
   "metadata": {},
   "outputs": [
    {
     "name": "stdout",
     "output_type": "stream",
     "text": [
      "[[[0. 0.]\n",
      "  [0. 0.]\n",
      "  [0. 0.]]\n",
      "\n",
      " [[0. 0.]\n",
      "  [0. 0.]\n",
      "  [0. 0.]]]\n",
      "(2, 3, 2)\n"
     ]
    }
   ],
   "source": [
    "print(np.zeros([2, 3, 2]))  # 3D matrix \n",
    "print(np.zeros([2, 3, 2]).shape)"
   ]
  },
  {
   "cell_type": "code",
   "execution_count": 26,
   "metadata": {},
   "outputs": [
    {
     "name": "stdout",
     "output_type": "stream",
     "text": [
      "[[[0. 0.]\n",
      "  [0. 0.]\n",
      "  [0. 0.]]\n",
      "\n",
      " [[0. 0.]\n",
      "  [0. 0.]\n",
      "  [0. 0.]]]\n"
     ]
    }
   ],
   "source": [
    "print(np.zeros((2, 3, 2)))  # 3D matrix but this time passing a tuple"
   ]
  },
  {
   "cell_type": "markdown",
   "metadata": {},
   "source": [
    "Observe that passing tuple or list as an argument doesn't make any difference. Make one convention and remember it. Try to pass list as `np.array()` also takes list of list"
   ]
  },
  {
   "cell_type": "code",
   "execution_count": null,
   "metadata": {},
   "outputs": [],
   "source": []
  }
 ],
 "metadata": {
  "kernelspec": {
   "display_name": "Python 3",
   "language": "python",
   "name": "python3"
  },
  "language_info": {
   "codemirror_mode": {
    "name": "ipython",
    "version": 3
   },
   "file_extension": ".py",
   "mimetype": "text/x-python",
   "name": "python",
   "nbconvert_exporter": "python",
   "pygments_lexer": "ipython3",
   "version": "3.7.6"
  }
 },
 "nbformat": 4,
 "nbformat_minor": 4
}
